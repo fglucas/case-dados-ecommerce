{
 "cells": [
  {
   "cell_type": "markdown",
   "id": "c148190d-63de-4bbe-93e8-92717357aedd",
   "metadata": {},
   "source": [
    "## Localizando arquivos CSV e gerando DataFrame"
   ]
  },
  {
   "cell_type": "code",
   "execution_count": null,
   "id": "9e072aba",
   "metadata": {},
   "outputs": [],
   "source": [
    "import pandas as pd\n",
    "import glob\n",
    "import os\n",
    "\n",
    "#Localizar diretorio\n",
    "pasta = \"..\\Vendas\"\n",
    "\n",
    "#Buscar arquivos em csv\n",
    "arquivos = glob.glob(os.path.join(pasta, \"*.csv\"))\n",
    "\n",
    "#Gerar Dataframe a partir do csv\n",
    "if arquivos:\n",
    "    df = pd.concat([pd.read_csv(arq) for arq in arquivos], ignore_index=True)\n",
    "    print(f\"Processados {len(arquivos)} arquivos CSV\")\n",
    "    print(f\"DataFrame: {df.shape[0]} linhas, {df.shape[1]} colunas\")\n",
    "else:\n",
    "    print(\"Nenhum arquivo encontrado!\")\n",
    "\n"
   ]
  },
  {
   "cell_type": "markdown",
   "id": "3d5db466-1b10-4378-96f4-b4a9457ae819",
   "metadata": {},
   "source": [
    "## Excluindo Vendedor 10"
   ]
  },
  {
   "cell_type": "code",
   "execution_count": null,
   "id": "56bca0bd-8809-449d-abcd-7e08f58d8bda",
   "metadata": {},
   "outputs": [],
   "source": [
    "#Contar registros Vendedor 10 \n",
    "df_vendedor10 = df.query('cdVendedor == 10')\n",
    "print(f\"Vendedor 10 - Registros para exclusão: {len(df_vendedor10)}\")\n",
    "\n",
    "#Apagar registros Vendedor 10\n",
    "df_limpo = df.query('cdVendedor != 10')\n",
    "print(f\"Registros excluídos: {len(df) - len(df_limpo)}\")"
   ]
  },
  {
   "cell_type": "markdown",
   "id": "b2bcb935-2859-40c6-8dd0-c1f2d34fde6e",
   "metadata": {},
   "source": [
    "## Requisito 7 anos"
   ]
  },
  {
   "cell_type": "code",
   "execution_count": null,
   "id": "1cf51388-7917-4b82-a1b3-e5ed4bbe1ac6",
   "metadata": {},
   "outputs": [],
   "source": [
    "#Alterar valores venda vendedor 7\n",
    "df_limpo.loc[df_limpo['cdVendedor'] == 7, 'valor'] = 70.00\n",
    "\n",
    "#Valores Vendedores\n",
    "vendas_vendedor = df_limpo.groupby('cdVendedor')['valor'].mean().sort_values(ascending=False)\n",
    "for vendedor, media in vendas_vendedor.items():\n",
    "    print(f\"Vendedor {vendedor}: R$ {media:.2f}\")"
   ]
  },
  {
   "cell_type": "markdown",
   "id": "c9dbeb20-29b1-43cd-be41-e525165d671d",
   "metadata": {},
   "source": [
    "## Exportar Dataframe tratado e Vendedor10 para Destino Vendas"
   ]
  },
  {
   "cell_type": "code",
   "execution_count": null,
   "id": "44df3530-a8ca-41ff-ba23-95cc60dc3fa9",
   "metadata": {},
   "outputs": [],
   "source": [
    "#Função para exportar Dataframe\n",
    "def exportar_arquivo(dataframe, nome_arquivo, descricao):\n",
    "    try:\n",
    "        #Definir destino para arquivos exportados\n",
    "        destino_dir = os.path.join('..', 'Destino Vendas')\n",
    "        \n",
    "        #Verificar se já existe diretorio\n",
    "        os.makedirs(destino_dir, exist_ok=True)\n",
    "        \n",
    "        #Definir nome do arquivo final\n",
    "        arquivo_final = os.path.join(destino_dir, nome_arquivo)\n",
    "\n",
    "        #Exportar dataframe\n",
    "        dataframe.to_csv(arquivo_final, index=False, encoding='utf-8')\n",
    "\n",
    "        #Verificações e feedback\n",
    "        print(f\"{descricao}\")\n",
    "        print(f\" {nome_arquivo}\")\n",
    "        print(f\" {len(dataframe):,} registros\")\n",
    "        print(f\" {os.path.getsize(arquivo_final):,} bytes\")\n",
    "        return True\n",
    "        \n",
    "    #Tramento de erros \n",
    "    except Exception as e:\n",
    "        print(f\"Erro ao exportar {nome_arquivo}: {str(e)}\")\n",
    "        return False\n",
    "\n",
    "#Arquivo tratado consolidado\n",
    "exportar_arquivo(df_limpo, 'vendas_consolidadas_final.csv', 'Dados principais tratados')\n",
    "#Arquivo Vendedor 10 consolidado\n",
    "exportar_arquivo(df_vendedor10, 'vendedor10_consolidado.csv', 'Registros excluídos')\n",
    "\n",
    "print(f\"Arquivos salvos em: {os.path.abspath(os.path.join('..', 'Destino Vendas'))}\")"
   ]
  }
 ],
 "metadata": {
  "kernelspec": {
   "display_name": "Python [conda env:base] *",
   "language": "python",
   "name": "conda-base-py"
  },
  "language_info": {
   "codemirror_mode": {
    "name": "ipython",
    "version": 3
   },
   "file_extension": ".py",
   "mimetype": "text/x-python",
   "name": "python",
   "nbconvert_exporter": "python",
   "pygments_lexer": "ipython3",
   "version": "3.13.5"
  }
 },
 "nbformat": 4,
 "nbformat_minor": 5
}
